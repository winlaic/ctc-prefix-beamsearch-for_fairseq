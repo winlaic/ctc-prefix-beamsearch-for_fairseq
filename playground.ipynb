{
 "cells": [
  {
   "cell_type": "code",
   "execution_count": 2,
   "metadata": {},
   "outputs": [],
   "source": [
    "from pathlib import Path\n",
    "import regex as re\n",
    "from collections import defaultdict\n",
    "import json, yaml, pickle\n",
    "import numpy as np\n",
    "import torch"
   ]
  },
  {
   "cell_type": "code",
   "execution_count": 24,
   "metadata": {},
   "outputs": [],
   "source": [
    "emissions = np.load('test_emit.npy')\n",
    "ids = np.load('test_id.npy')\n",
    "target = np.load('test_target.npy')\n",
    "hypos = pickle.loads(Path('test_hypos.pkl').read_bytes())\n",
    "dictionary = [item.split()[0] for item in Path('dict.ltr.txt').read_text().splitlines()]\n",
    "dictionary = ['<blank>'] + dictionary"
   ]
  },
  {
   "cell_type": "code",
   "execution_count": 58,
   "metadata": {},
   "outputs": [],
   "source": [
    "e = emissions[-1]\n",
    "isinf = np.isinf(e[:, 1:]).all(-1)\n",
    "l = 0\n",
    "while l < len(isinf) and not isinf[l]: l += 1\n",
    "e = e[:l]\n",
    "valid_idxs = np.ones(e.shape[1], dtype=bool)\n",
    "valid_idxs[1:4] = False\n",
    "e = e[:, valid_idxs]\n",
    "e = np.log(np.exp(e) / np.sum(np.exp(e), axis=-1, keepdims=True))"
   ]
  },
  {
   "cell_type": "code",
   "execution_count": 99,
   "metadata": {},
   "outputs": [
    {
     "name": "stderr",
     "output_type": "stream",
     "text": [
      "/var/folders/h0/xyyjljg92hs8qj6f5zy3f1j80000gn/T/ipykernel_18317/4277480334.py:2: RuntimeWarning: divide by zero encountered in log\n",
      "  return np.log(np.exp(a) + np.exp(b))\n"
     ]
    }
   ],
   "source": [
    "def logsumexp(a: np.ndarray, b: np.ndarray):\n",
    "    return np.log(np.exp(a) + np.exp(b))\n",
    "\n",
    "def logsumexpdict(a: dict, b: dict):\n",
    "    ret = {}\n",
    "    keys = set(a) | set(b)\n",
    "    for k in keys:\n",
    "        ret[k] = logsumexp(a[k], b[k])\n",
    "    return ret\n",
    "\n",
    "T, N = e.shape\n",
    "hs = defaultdict(list)\n",
    "hs[-1] = [tuple()]\n",
    "pnb = defaultdict(lambda: defaultdict(lambda: -np.inf))\n",
    "pb = defaultdict(lambda: defaultdict(lambda: -np.inf))\n",
    "pb[-1][tuple()] = 0.0\n",
    "pnb[-1][tuple()] = -np.inf\n",
    "BLANK_ID = 0\n",
    "SPACE_ID = 1\n",
    "for t in range(0, T):\n",
    "    for h in hs[t-1]:\n",
    "        last_c = h[-1] if h else None\n",
    "        for c in range(N):\n",
    "            cp = e[t, c]\n",
    "            if c == BLANK_ID:\n",
    "                pb[t][h] = logsumexp(pb[t][h], logsumexp(pb[t-1][h], pnb[t-1][h]) + cp)\n",
    "            else:\n",
    "                if c == last_c:\n",
    "                    pnb[t][h] = logsumexp(pnb[t][h], pnb[t-1][h] + cp)\n",
    "                    pnb[t][h + (c,)] = logsumexp(pnb[t][h + (c,)], pb[t-1][h] + cp)\n",
    "                else:\n",
    "                    pnb[t][h + (c,)] = logsumexp(pnb[t][h + (c,)], logsumexp(pnb[t-1][h], pb[t-1][h]) + cp)\n",
    "                \n",
    "                # 因为后边剪枝了，可能剪掉了前一步已经存在的 h + (c,)。\n",
    "                if h + (c,) not in hs[t-1]:\n",
    "                    pb[t][h + (c,)] = logsumexp(pb[t][h + (c,)], logsumexp(pb[t-1][h + (c,)], pnb[t-1][h + (c,)]) + e[t, BLANK_ID])\n",
    "                    pnb[t][h + (c,)] = logsumexp(pnb[t][h + (c,)], pnb[t-1][h + (c,)] + cp)\n",
    "                \n",
    "    hs[t] = [item[0] for item in sorted(logsumexpdict(pb[t], pnb[t]).items(), key=lambda x: x[1], reverse=True)[:20]]\n",
    "    "
   ]
  },
  {
   "cell_type": "code",
   "execution_count": 100,
   "metadata": {},
   "outputs": [
    {
     "data": {
      "text/plain": [
       "['THIS|HAPPENED|EVERY|YEAR|AND|THE|YOUNG|FIR|TREE|THAT|HAD|NOW|GROWN|TO|A|VERY|COMELY|SIZES|TREMBLED|AT|THE|SIGHT|FOR|THE|MAGNIFICENT|GREAT|TREES|FELL|TO|THE|EARTH|WITH|NOISE|AND|CRACKING|THE|BRANCHES|WERE|LOPPED|OFF|AND|THE|TREES|LOOKED|LONG|AND|BARE|THEY|WERE|HARDLY|TO|BE|RECOGNIZED|AND|THEN|THEY|WERE|LAIDIN|CARTS|AND|THE|HORSES|DRAGGED|THEM|OUT|OF|THE|WOOD|',\n",
       " 'THIS|HAPPENED|EVERY|YEAR|AND|THE|YOUNG|FIR|TREE|THAT|HAD|NOW|GROWN|TO|A|VERY|COMELY|SIZES|TREMBLED|AT|THE|SIGHT|FOR|THE|MAGNIFICENT|GREAT|TREES|FELL|TO|THE|EARTH|WITH|NOISE|AND|CRACKING|THE|BRANCHES|WERE|LOPPED|OFF|AND|THE|TREES|LOOKED|LONG|AND|BARE|THEY|WERE|HARDLY|TO|BE|RECOGNIZED|AND|THEN|THEY|WERE|LAID|IN|CARTS|AND|THE|HORSES|DRAGGED|THEM|OUT|OF|THE|WOOD|',\n",
       " 'THIS|HAPPENED|EVERY|YEAR|AND|THE|YOUNG|FIR|TREE|THAT|HAD|NOW|GROWN|TO|A|VERY|COMELY|SIZES|TREMBLED|AT|THE|SIGHT|FOR|THE|MAGNIFICENT|GREAT|TREES|FELL|TO|THE|EARTH|WITH|NOISE|AND|CRACKING|THE|BRANCHES|WERE|LOPPED|OFF|AND|THE|TREES|LOOKED|LONG|AND|BARE|THEY|WERE|HARDLY|TO|BE|RECOGNIZED|AND|THEN|THEY|WERE|LAIDEN|CARTS|AND|THE|HORSES|DRAGGED|THEM|OUT|OF|THE|WOOD|',\n",
       " 'THIS|HAPPENED|EVERY|YEAR|AND|THE|YOUNG|FIR|TREE|THAT|HAD|NOW|GROWN|TO|A|VERY|COMELY|SIYES|TREMBLED|AT|THE|SIGHT|FOR|THE|MAGNIFICENT|GREAT|TREES|FELL|TO|THE|EARTH|WITH|NOISE|AND|CRACKING|THE|BRANCHES|WERE|LOPPED|OFF|AND|THE|TREES|LOOKED|LONG|AND|BARE|THEY|WERE|HARDLY|TO|BE|RECOGNIZED|AND|THEN|THEY|WERE|LAIDIN|CARTS|AND|THE|HORSES|DRAGGED|THEM|OUT|OF|THE|WOOD|',\n",
       " 'THIS|HAPPENED|EVERY|YEAR|AND|THE|YOUNG|FIR|TREE|THAT|HAD|NOW|GROWN|TO|A|VERY|COMELY|SIZE|TREMBLED|AT|THE|SIGHT|FOR|THE|MAGNIFICENT|GREAT|TREES|FELL|TO|THE|EARTH|WITH|NOISE|AND|CRACKING|THE|BRANCHES|WERE|LOPPED|OFF|AND|THE|TREES|LOOKED|LONG|AND|BARE|THEY|WERE|HARDLY|TO|BE|RECOGNIZED|AND|THEN|THEY|WERE|LAIDIN|CARTS|AND|THE|HORSES|DRAGGED|THEM|OUT|OF|THE|WOOD|',\n",
       " 'THIS|HAPPENED|EVERY|YEAR|AND|THE|YOUNG|FIR|TREE|THAT|HAD|NOW|GROWN|TO|A|VERY|COMELY|SIZES|TREMBLED|AT|THE|SIGHT|FOR|THE|MAGNIFICENT|GREAT|TREES|FELL|TO|THE|EARTH|WITH|NOISE|AND|CRACKING|THE|BRANCHES|WERE|LOPPED|OFF|AND|THE|TREES|LOOKED|LONG|AND|BARE|THEY|WERE|HARDLY|TO|BE|RECOGNIZED|AND|THEN|THEY|WERE|LAID|EN|CARTS|AND|THE|HORSES|DRAGGED|THEM|OUT|OF|THE|WOOD|',\n",
       " 'THIS|HAPPENED|EVERY|YEAR|AND|THE|YOUNG|FIR|TREE|THAT|HAD|NOW|GROWN|TO|A|VERY|COMELY|SIYES|TREMBLED|AT|THE|SIGHT|FOR|THE|MAGNIFICENT|GREAT|TREES|FELL|TO|THE|EARTH|WITH|NOISE|AND|CRACKING|THE|BRANCHES|WERE|LOPPED|OFF|AND|THE|TREES|LOOKED|LONG|AND|BARE|THEY|WERE|HARDLY|TO|BE|RECOGNIZED|AND|THEN|THEY|WERE|LAID|IN|CARTS|AND|THE|HORSES|DRAGGED|THEM|OUT|OF|THE|WOOD|',\n",
       " 'THIS|HAPPENED|EVERY|YEAR|AND|THE|YOUNG|FIR|TREE|THAT|HAD|NOW|GROWN|TO|A|VERY|COMELY|SIYES|TREMBLED|AT|THE|SIGHT|FOR|THE|MAGNIFICENT|GREAT|TREES|FELL|TO|THE|EARTH|WITH|NOISE|AND|CRACKING|THE|BRANCHES|WERE|LOPPED|OFF|AND|THE|TREES|LOOKED|LONG|AND|BARE|THEY|WERE|HARDLY|TO|BE|RECOGNIZED|AND|THEN|THEY|WERE|LAIDEN|CARTS|AND|THE|HORSES|DRAGGED|THEM|OUT|OF|THE|WOOD|',\n",
       " 'THIS|HAPPENED|EVERY|YEAR|AND|THE|YOUNG|FIR|TREE|THAT|HAD|NOW|GROWN|TO|A|VERY|COMELY|SIZE|TREMBLED|AT|THE|SIGHT|FOR|THE|MAGNIFICENT|GREAT|TREES|FELL|TO|THE|EARTH|WITH|NOISE|AND|CRACKING|THE|BRANCHES|WERE|LOPPED|OFF|AND|THE|TREES|LOOKED|LONG|AND|BARE|THEY|WERE|HARDLY|TO|BE|RECOGNIZED|AND|THEN|THEY|WERE|LAID|IN|CARTS|AND|THE|HORSES|DRAGGED|THEM|OUT|OF|THE|WOOD|',\n",
       " 'THIS|HAPPENED|EVERY|YEAR|AND|THE|YOUNG|FIR|TREE|THAT|HAD|NOW|GROWN|TO|A|VERY|COMELY|SIYE|TREMBLED|AT|THE|SIGHT|FOR|THE|MAGNIFICENT|GREAT|TREES|FELL|TO|THE|EARTH|WITH|NOISE|AND|CRACKING|THE|BRANCHES|WERE|LOPPED|OFF|AND|THE|TREES|LOOKED|LONG|AND|BARE|THEY|WERE|HARDLY|TO|BE|RECOGNIZED|AND|THEN|THEY|WERE|LAIDIN|CARTS|AND|THE|HORSES|DRAGGED|THEM|OUT|OF|THE|WOOD|',\n",
       " 'THIS|HAPPENED|EVERY|YEAR|AND|THE|YOUNG|FIR|TREE|THAT|HAD|NOW|GROWN|TO|A|VERY|COMELY|SIZE|TREMBLED|AT|THE|SIGHT|FOR|THE|MAGNIFICENT|GREAT|TREES|FELL|TO|THE|EARTH|WITH|NOISE|AND|CRACKING|THE|BRANCHES|WERE|LOPPED|OFF|AND|THE|TREES|LOOKED|LONG|AND|BARE|THEY|WERE|HARDLY|TO|BE|RECOGNIZED|AND|THEN|THEY|WERE|LAIDEN|CARTS|AND|THE|HORSES|DRAGGED|THEM|OUT|OF|THE|WOOD|',\n",
       " 'THIS|HAPPENED|EVERY|YEAR|AND|THE|YOUNG|FIR|TREE|THAT|HAD|NOW|GROWN|TO|A|VERY|COMELY|SIZES|TREMBLED|AT|THE|SIGHT|FOR|THE|MAGNIFICENT|GREAT|TREES|FELL|TO|THE|EARTH|WITH|NOISE|AND|CRACKING|THE|BRANCHES|WERE|LOPPED|OFF|AND|THE|TREES|LOOKED|LONG|AND|BARE|THEY|WERE|HARDLY|TO|BE|RECOGNIZED|AND|THEN|THEY|WERE|LAIDIN|CARTS|AND|THE|HORSES|DRAGGED|THEM|OUT|OF|THE|WOOD||',\n",
       " 'THIS|HAPPENED|EVERY|YEAR|AND|THE|YOUNG|FIR|TREE|THAT|HAD|NOW|GROWN|TO|A|VERY|COMELY|SIZES|TREMBLED|AT|THE|SIGHT|FOR|THE|MAGNIFICENT|GREAT|TREES|FELL|TO|THE|EARTH|WITH|NOISE|AND|CRACKING|THE|BRANCHES|WERE|LOPPED|OFF|AND|THE|TREES|LOOKED|LONG|AND|BARE|THEY|WERE|HARDLY|TO|BE|RECOGNIZED|AND|THEN|THEY|WERE|LAID|IN|CARTS|AND|THE|HORSES|DRAGGED|THEM|OUT|OF|THE|WOOD||',\n",
       " 'THIS|HAPPENED|EVERY|YEAR|AND|THE|YOUNG|FIR|TREE|THAT|HAD|NOW|GROWN|TO|A|VERY|COMELY|SIZES|TREMBLED|AT|THE|SIGHT|FOR|THE|MAGNIFICENT|GREAT|TREES|FELL|TO|THE|EARTH|WITH|NOISE|AND|CRACKING|THE|BRANCHES|WERE|LOPPED|OFF|AND|THE|TREES|LOOKED|LONG|AND|BARE|THEY|WERE|HARDLY|TO|BE|RECOGNIZED|AND|THEN|THEY|WERE|LAIDEN|CARTS|AND|THE|HORSES|DRAGGED|THEM|OUT|OF|THE|WOOD||',\n",
       " 'THIS|HAPPENED|EVERY|YEAR|AND|THE|YOUNG|FIR|TREE|THAT|HAD|NOW|GROWN|TO|A|VERY|COMELY|SIYES|TREMBLED|AT|THE|SIGHT|FOR|THE|MAGNIFICENT|GREAT|TREES|FELL|TO|THE|EARTH|WITH|NOISE|AND|CRACKING|THE|BRANCHES|WERE|LOPPED|OFF|AND|THE|TREES|LOOKED|LONG|AND|BARE|THEY|WERE|HARDLY|TO|BE|RECOGNIZED|AND|THEN|THEY|WERE|LAIDIN|CARTS|AND|THE|HORSES|DRAGGED|THEM|OUT|OF|THE|WOOD||',\n",
       " 'THIS|HAPPENED|EVERY|YEAR|AND|THE|YOUNG|FIR|TREE|THAT|HAD|NOW|GROWN|TO|A|VERY|COMELY|SIZE|TREMBLED|AT|THE|SIGHT|FOR|THE|MAGNIFICENT|GREAT|TREES|FELL|TO|THE|EARTH|WITH|NOISE|AND|CRACKING|THE|BRANCHES|WERE|LOPPED|OFF|AND|THE|TREES|LOOKED|LONG|AND|BARE|THEY|WERE|HARDLY|TO|BE|RECOGNIZED|AND|THEN|THEY|WERE|LAIDIN|CARTS|AND|THE|HORSES|DRAGGED|THEM|OUT|OF|THE|WOOD||',\n",
       " 'THIS|HAPPENED|EVERY|YEAR|AND|THE|YOUNG|FIR|TREE|THAT|HAD|NOW|GROWN|TO|A|VERY|COMELY|SIZES|TREMBLED|AT|THE|SIGHT|FOR|THE|MAGNIFICENT|GREAT|TREES|FELL|TO|THE|EARTH|WITH|NOISE|AND|CRACKING|THE|BRANCHES|WERE|LOPPED|OFF|AND|THE|TREES|LOOKED|LONG|AND|BARE|THEY|WERE|HARDLY|TO|BE|RECOGNIZED|AND|THEN|THEY|WERE|LAID|EN|CARTS|AND|THE|HORSES|DRAGGED|THEM|OUT|OF|THE|WOOD||',\n",
       " 'THIS|HAPPENED|EVERY|YEAR|AND|THE|YOUNG|FIR|TREE|THAT|HAD|NOW|GROWN|TO|A|VERY|COMELY|SIYES|TREMBLED|AT|THE|SIGHT|FOR|THE|MAGNIFICENT|GREAT|TREES|FELL|TO|THE|EARTH|WITH|NOISE|AND|CRACKING|THE|BRANCHES|WERE|LOPPED|OFF|AND|THE|TREES|LOOKED|LONG|AND|BARE|THEY|WERE|HARDLY|TO|BE|RECOGNIZED|AND|THEN|THEY|WERE|LAID|IN|CARTS|AND|THE|HORSES|DRAGGED|THEM|OUT|OF|THE|WOOD||',\n",
       " 'THIS|HAPPENED|EVERY|YEAR|AND|THE|YOUNG|FIR|TREE|THAT|HAD|NOW|GROWN|TO|A|VERY|COMELY|SIZES|TREMBLED|AT|THE|SIGHT|FOR|THE|MAGNIFICENT|GREAT|TREES|FELL|TO|THE|EARTH|WITH|NOISE|AND|CRACKING|THE|BRANCHES|WERE|LOPPED|OFF|AND|THE|TREES|LOOKED|LONG|AND|BARE|THEY|WERE|HARDLY|TO|BE|RECOGNIZED|AND|THEN|THEY|WERE|LAIDIN|CARTS|AND|THE|HORSES|DRAGGED|THEM|OUT|OF|THE|WOODS|',\n",
       " 'THIS|HAPPENED|EVERY|YEAR|AND|THE|YOUNG|FIR|TREE|THAT|HAD|NOW|GROWN|TO|A|VERY|COMELY|SIZES|TREMBLED|AT|THE|SIGHT|FOR|THE|MAGNIFICENT|GREAT|TREES|FELL|TO|THE|EARTH|WITH|NOISE|AND|CRACKING|THE|BRANCHES|WERE|LOPPED|OFF|AND|THE|TREES|LOOKED|LONG|AND|BARE|THEY|WERE|HARDLY|TO|BE|RECOGNIZED|AND|THEN|THEY|WERE|LAIDIN|CARTS|AND|THE|HORSES|DRAGGED|THEM|OUT|OF|THE|WOODT|']"
      ]
     },
     "execution_count": 100,
     "metadata": {},
     "output_type": "execute_result"
    }
   ],
   "source": [
    "decoded = [''.join(dictionary[i] for i in item) for item in hs[T-1]]\n",
    "decoded"
   ]
  },
  {
   "cell_type": "code",
   "execution_count": 79,
   "metadata": {},
   "outputs": [
    {
     "data": {
      "text/plain": [
       "'THIS|HAPPENED|EVERY|YEAR|AND|THE|YOUNG|FIR|TREE|THAT|HAD|NOW|GROWN|TO|A|VERY|COMELY|SIZES|TREMBLED|AT|THE|SIGHT|FOR|THE|MAGNIFICENT|GREAT|TREES|FELL|TO|THE|EARTH|WITH|NOISE|AND|CRACKING|THE|BRANCHES|WERE|LOPPED|OFF|AND|THE|TREES|LOOKED|LONG|AND|BARE|THEY|WERE|HARDLY|TO|BE|RECOGNIZED|AND|THEN|THEY|WERE|LAIDIN|CARTS|AND|THE|HORSES|DRAGGED|THEM|OUT|OF|THE|WOOD|'"
      ]
     },
     "execution_count": 79,
     "metadata": {},
     "output_type": "execute_result"
    }
   ],
   "source": [
    "greedy = torch.unique_consecutive(torch.from_numpy(e.argmax(-1)))\n",
    "greedy = greedy[greedy != BLANK_ID]\n",
    "greedy = ''.join(dictionary[i] for i in greedy)\n",
    "greedy"
   ]
  },
  {
   "cell_type": "code",
   "execution_count": 101,
   "metadata": {},
   "outputs": [
    {
     "data": {
      "text/plain": [
       "True"
      ]
     },
     "execution_count": 101,
     "metadata": {},
     "output_type": "execute_result"
    }
   ],
   "source": [
    "greedy == decoded[0]"
   ]
  }
 ],
 "metadata": {
  "kernelspec": {
   "display_name": "base",
   "language": "python",
   "name": "python3"
  },
  "language_info": {
   "codemirror_mode": {
    "name": "ipython",
    "version": 3
   },
   "file_extension": ".py",
   "mimetype": "text/x-python",
   "name": "python",
   "nbconvert_exporter": "python",
   "pygments_lexer": "ipython3",
   "version": "3.9.13"
  }
 },
 "nbformat": 4,
 "nbformat_minor": 2
}
